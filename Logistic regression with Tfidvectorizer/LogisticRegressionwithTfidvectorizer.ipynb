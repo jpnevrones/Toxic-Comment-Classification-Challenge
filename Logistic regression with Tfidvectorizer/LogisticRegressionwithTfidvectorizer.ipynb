{
 "cells": [
  {
   "cell_type": "code",
   "execution_count": 5,
   "metadata": {},
   "outputs": [],
   "source": [
    "__author__ = \"Jithin Pradeep, Madhura Dole\"\n",
    "__copyright__ = \"Copyright (C) 2018 Jithin Pradeep, Madhura Dole\"\n",
    "__license__ = \"MIT License\"\n",
    "__version__ = \"1.0\""
   ]
  },
  {
   "cell_type": "code",
   "execution_count": 4,
   "metadata": {},
   "outputs": [
    {
     "name": "stdout",
     "output_type": "stream",
     "text": [
      "predict toxic\n",
      "predict severe_toxic\n",
      "predict obscene\n",
      "predict threat\n",
      "predict insult\n",
      "predict identity_hate\n"
     ]
    }
   ],
   "source": [
    "import os\n",
    "import numpy as np\n",
    "import pandas as pd\n",
    "import scipy as sp\n",
    "import os\n",
    "\n",
    "from sklearn.feature_extraction.text import TfidfVectorizer\n",
    "from sklearn.linear_model import LogisticRegression\n",
    "\n",
    "\n",
    "def predict_one(x, y, xt):\n",
    "    c = LogisticRegression(C=1.2, class_weight='balanced')\n",
    "    c.fit(x, y)\n",
    "    y_pred = c.predict_proba(xt)\n",
    "    idx = list(c.classes_).index(1)\n",
    "    return y_pred[:, idx]\n",
    "\n",
    "\n",
    "\n",
    "train_data = pd.read_csv(os.getcwd() + \"\\Ctoxicinput\\_train.csv\")\n",
    "test_data = pd.read_csv(os.getcwd() + \"\\Ctoxicinput\\_test.csv\")\n",
    "\n",
    "\n",
    "all_comment_text = pd.concat([train_data.comment_text, test_data.comment_text])\n",
    "\n",
    "char_vec = TfidfVectorizer(analyzer='char', ngram_range=(1, 5), max_features=50000)\n",
    "char_vec.fit(all_comment_text)\n",
    "x_train_c = char_vec.transform(train_data.comment_text)\n",
    "x_test_c = char_vec.transform(test_data.comment_text)\n",
    "\n",
    "word_vec = TfidfVectorizer(analyzer='word', ngram_range=(1, 1), max_features=50000)\n",
    "word_vec.fit(all_comment_text)\n",
    "x_train_w = word_vec.transform(train_data.comment_text)\n",
    "x_test_w = word_vec.transform(test_data.comment_text)\n",
    "\n",
    "x_train_j = sp.sparse.hstack([x_train_c, x_train_w])\n",
    "x_test_j = sp.sparse.hstack([x_test_c, x_test_w])\n",
    "\n",
    "\n",
    "sub_c = pd.DataFrame({'id': test_data['id']})\n",
    "sub_w = pd.DataFrame({'id': test_data['id']})\n",
    "sub_j = pd.DataFrame({'id': test_data['id']})\n",
    "sub_mean = pd.DataFrame({'id': test_data['id']})\n",
    "sub_max = pd.DataFrame({'id': test_data['id']})\n",
    "\n",
    "targets = ['toxic', 'severe_toxic', 'obscene', 'threat', 'insult', 'identity_hate']\n",
    "for t in targets:\n",
    "    y = train_data[t].values\n",
    "    y_pred_c = predict_one(x_train_c, y, x_test_c)\n",
    "    y_pred_w = predict_one(x_train_w, y, x_test_w)\n",
    "    y_pred_j = predict_one(x_train_j, y, x_test_j)\n",
    "    sub_c[t] = y_pred_c\n",
    "    sub_w[t] = y_pred_w\n",
    "    sub_j[t] = y_pred_j\n",
    "    sub_mean[t] = 0.5 * (y_pred_c + y_pred_w)\n",
    "    sub_max[t] = np.maximum(y_pred_c, y_pred_w)\n",
    "    print('predict {}'.format(t))\n",
    "\n",
    "sub_c.to_csv('char.csv', index=0)\n",
    "sub_w.to_csv('word.csv', index=0)\n",
    "sub_j.to_csv('joint.csv', index=0)\n",
    "sub_mean.to_csv('mean.csv', index=0)\n",
    "sub_max.to_csv('max.csv', index=0)"
   ]
  },
  {
   "cell_type": "code",
   "execution_count": null,
   "metadata": {},
   "outputs": [],
   "source": []
  }
 ],
 "metadata": {
  "kernelspec": {
   "display_name": "Python [conda env:Anaconda3]",
   "language": "python",
   "name": "conda-env-Anaconda3-py"
  },
  "language_info": {
   "codemirror_mode": {
    "name": "ipython",
    "version": 2
   },
   "file_extension": ".py",
   "mimetype": "text/x-python",
   "name": "python",
   "nbconvert_exporter": "python",
   "pygments_lexer": "ipython2",
   "version": "2.7.14"
  }
 },
 "nbformat": 4,
 "nbformat_minor": 2
}
